{
  "cells": [
    {
      "cell_type": "markdown",
      "source": [
        "# Classification de Koppen d'une liste de stations\n"
      ],
      "metadata": {
        "id": "kJQBNrMGsqD_"
      },
      "id": "kJQBNrMGsqD_"
    },
    {
      "cell_type": "code",
      "source": [
        "! git clone https://github.com/nanopiero/tp_python_avance.git"
      ],
      "metadata": {
        "id": "U5P9xjnFw9vD",
        "outputId": "7b2d884d-793c-407e-df83-0c4b204a1539",
        "colab": {
          "base_uri": "https://localhost:8080/"
        }
      },
      "id": "U5P9xjnFw9vD",
      "execution_count": 3,
      "outputs": [
        {
          "output_type": "stream",
          "name": "stdout",
          "text": [
            "Cloning into 'tp_python_avance'...\n",
            "remote: Enumerating objects: 9, done.\u001b[K\n",
            "remote: Counting objects:  11% (1/9)\u001b[K\rremote: Counting objects:  22% (2/9)\u001b[K\rremote: Counting objects:  33% (3/9)\u001b[K\rremote: Counting objects:  44% (4/9)\u001b[K\rremote: Counting objects:  55% (5/9)\u001b[K\rremote: Counting objects:  66% (6/9)\u001b[K\rremote: Counting objects:  77% (7/9)\u001b[K\rremote: Counting objects:  88% (8/9)\u001b[K\rremote: Counting objects: 100% (9/9)\u001b[K\rremote: Counting objects: 100% (9/9), done.\u001b[K\n",
            "remote: Compressing objects: 100% (7/7), done.\u001b[K\n",
            "remote: Total 9 (delta 1), reused 0 (delta 0), pack-reused 0 (from 0)\u001b[K\n",
            "Receiving objects: 100% (9/9), 23.99 KiB | 11.99 MiB/s, done.\n",
            "Resolving deltas: 100% (1/1), done.\n"
          ]
        }
      ]
    },
    {
      "cell_type": "code",
      "source": [
        "! ls tp_python_avance"
      ],
      "metadata": {
        "id": "NhPTN4dqxCMj",
        "outputId": "ba4cff7f-63ed-4bd0-9c30-b3c6fec3d3ce",
        "colab": {
          "base_uri": "https://localhost:8080/"
        }
      },
      "id": "NhPTN4dqxCMj",
      "execution_count": 5,
      "outputs": [
        {
          "output_type": "stream",
          "name": "stdout",
          "text": [
            "koppen.ipynb  NORMALES_mens.data  README.md\n"
          ]
        }
      ]
    },
    {
      "cell_type": "code",
      "source": [
        "import pandas as pd\n",
        "\n",
        "# Load the .data file into a DataFrame\n",
        "# Replace 'your_file_path.data' with the actual path to your file\n",
        "file_path = 'tp_python_avance/NORMALES_mens.data'\n",
        "\n",
        "# Use the read_csv function, specifying the delimiter and decimal character\n",
        "df = pd.read_csv(file_path, delimiter=';', decimal=',')\n",
        "\n",
        "# Display the first few rows of the DataFrame to check the data\n",
        "print(df.head())"
      ],
      "metadata": {
        "id": "evDGVICaxgvf",
        "outputId": "6dd30512-44bd-41db-99be-c57dd7574859",
        "colab": {
          "base_uri": "https://localhost:8080/"
        }
      },
      "id": "evDGVICaxgvf",
      "execution_count": 6,
      "outputs": [
        {
          "output_type": "stream",
          "name": "stdout",
          "text": [
            "     POSTE       NOM  ALT  DATE  RR_RRMOY  T_TMMOY\n",
            "0  1089001  AMBERIEU  250     1      84.9      3.2\n",
            "1  1089001  AMBERIEU  250     2      70.0      4.2\n",
            "2  1089001  AMBERIEU  250     3      75.0      8.0\n",
            "3  1089001  AMBERIEU  250     4      87.2     11.3\n",
            "4  1089001  AMBERIEU  250     5     106.4     15.2\n"
          ]
        }
      ]
    },
    {
      "cell_type": "code",
      "source": [
        "import pandas as pd\n",
        "\n",
        "# Rename columns for clarity\n",
        "df.columns = ['POSTE', 'NOM', 'ALT', 'DATE', 'RR_RRMOY', 'T_TMMOY']\n",
        "\n",
        "# Create two new columns with month-specific names for precipitation and temperature\n",
        "df['RR'] = df['DATE'].apply(lambda x: f\"{int(x):02d}_RR\")  # Formats as '01_RR', '02_RR', etc.\n",
        "df['T'] = df['DATE'].apply(lambda x: f\"{int(x):02d}_T\")    # Formats as '01_T', '02_T', etc.\n",
        "\n",
        "# Pivot for precipitation and temperature, separately\n",
        "df_rr = df.pivot(index='NOM', columns='RR', values='RR_RRMOY')\n",
        "df_t = df.pivot(index='NOM', columns='T', values='T_TMMOY')\n",
        "\n",
        "# Merge the two pivoted DataFrames, keeping 'ALT' as a separate column\n",
        "df_alt = df[['NOM', 'ALT']].drop_duplicates().set_index('NOM')\n",
        "result_df = pd.concat([df_alt, df_rr, df_t], axis=1).reset_index()\n",
        "\n",
        "# Display the reorganized DataFrame\n",
        "print(result_df.head())\n"
      ],
      "metadata": {
        "id": "gubP7Csdxoq6",
        "outputId": "2870db7d-fc84-4d83-8176-f9b30f7cf1f2",
        "colab": {
          "base_uri": "https://localhost:8080/"
        }
      },
      "id": "gubP7Csdxoq6",
      "execution_count": 7,
      "outputs": [
        {
          "output_type": "stream",
          "name": "stdout",
          "text": [
            "              NOM  ALT  01_RR  02_RR  03_RR  04_RR  05_RR  06_RR  07_RR  \\\n",
            "0        AMBERIEU  250   84.9   70.0   75.0   87.2  106.4   88.8   86.0   \n",
            "1      ST QUENTIN   98   54.1   48.0   51.3   43.2   57.1   59.8   60.2   \n",
            "2  VICHY-CHARMEIL  249   48.1   37.5   43.5   68.5   88.4   72.7   75.7   \n",
            "3        ST AUBAN  458   48.2   35.9   44.7   64.8   63.9   53.5   35.7   \n",
            "4          EMBRUN  873   51.0   42.9   49.5   57.0   69.3   61.1   49.2   \n",
            "\n",
            "   08_RR  ...  04_T  05_T  06_T  07_T  08_T  09_T  10_T  11_T  12_T  13_T  \n",
            "0   83.0  ...  11.3  15.2  19.0  21.1  20.9  16.7  12.6   7.1   3.9  11.9  \n",
            "1   70.8  ...  10.0  13.4  16.2  18.4  18.4  15.2  11.4   6.9   4.1  10.8  \n",
            "2   76.1  ...  10.5  14.4  18.1  20.2  20.1  16.2  12.6   7.5   4.6  11.7  \n",
            "3   50.7  ...  12.0  16.0  20.2  23.1  22.8  18.4  14.0   8.7   5.2  13.4  \n",
            "4   52.1  ...  10.2  14.1  18.0  20.6  20.5  16.1  11.8   6.4   2.9  11.1  \n",
            "\n",
            "[5 rows x 28 columns]\n"
          ]
        }
      ]
    },
    {
      "cell_type": "code",
      "source": [
        "import numpy as np\n",
        "\n",
        "def koppen_class(row):\n",
        "    # Retrieve altitude, monthly data, and annual data where available\n",
        "    alt = row['ALT']\n",
        "    monthly_precip = [row[f\"{str(month).zfill(2)}_RR\"] for month in range(1, 13)]\n",
        "    monthly_temp = [row[f\"{str(month).zfill(2)}_T\"] for month in range(1, 13)]\n",
        "    annual_precip = row.get(\"13_RR\", np.nan)\n",
        "    annual_temp = row.get(\"13_T\", np.nan)\n",
        "\n",
        "    # Check for NaN or None values\n",
        "    if any(pd.isna(val) for val in monthly_precip + monthly_temp + [annual_precip, annual_temp]):\n",
        "        return 'no_class'\n",
        "\n",
        "    # Calculate mean annual temperature and total annual precipitation\n",
        "    mean_annual_temp = np.mean(monthly_temp)\n",
        "    total_annual_precip = sum(monthly_precip)\n",
        "\n",
        "    # Classification based on Köppen criteria\n",
        "    if mean_annual_temp > 18 and min(monthly_temp) > 18:\n",
        "        # Tropical climates (A)\n",
        "        if total_annual_precip >= 60 * 12:\n",
        "            return 'Af'  # Tropical rainforest (no dry season)\n",
        "        elif min(monthly_precip) < 60 and sum(monthly_precip[:3]) < 60:\n",
        "            return 'Aw'  # Tropical savanna (dry winter)\n",
        "        elif min(monthly_precip) < 60:\n",
        "            return 'Am'  # Tropical monsoon\n",
        "    elif total_annual_precip < (mean_annual_temp * 20):\n",
        "        # Arid climates (B)\n",
        "        threshold = mean_annual_temp * 20\n",
        "        if total_annual_precip < threshold / 2:\n",
        "            return 'BWh' if mean_annual_temp > 18 else 'BWk'  # Hot or cold desert\n",
        "        else:\n",
        "            return 'BSh' if mean_annual_temp > 18 else 'BSk'  # Hot or cold steppe\n",
        "    elif -3 <= min(monthly_temp) < 18 and max(monthly_temp) > 10:\n",
        "        # Temperate climates (C)\n",
        "        if min(monthly_precip[5:8]) > max(monthly_precip[:5] + monthly_precip[8:]):\n",
        "            return 'Csa' if max(monthly_temp) > 22 else 'Csb'  # Mediterranean (dry summer)\n",
        "        elif max(monthly_precip[:5] + monthly_precip[8:]) > min(monthly_precip[5:8]):\n",
        "            return 'Cwa' if max(monthly_temp) > 22 else 'Cwb'  # Monsoon-influenced humid subtropical\n",
        "        else:\n",
        "            return 'Cfa' if max(monthly_temp) > 22 else 'Cfb'  # Oceanic\n",
        "    elif min(monthly_temp) < -3 and max(monthly_temp) > 10:\n",
        "        # Continental climates (D)\n",
        "        if min(monthly_precip[5:8]) > max(monthly_precip[:5] + monthly_precip[8:]):\n",
        "            return 'Dsa' if max(monthly_temp) > 22 else 'Dsb'  # Continental Mediterranean\n",
        "        elif max(monthly_precip[:5] + monthly_precip[8:]) > min(monthly_precip[5:8]):\n",
        "            return 'Dwa' if max(monthly_temp) > 22 else 'Dwb'  # Continental monsoon\n",
        "        else:\n",
        "            return 'Dfa' if max(monthly_temp) > 22 else 'Dfb'  # Humid continental\n",
        "    elif max(monthly_temp) < 10:\n",
        "        # Polar climates (E)\n",
        "        return 'ET' if max(monthly_temp) > 0 else 'EF'  # Tundra or Ice cap\n",
        "\n",
        "    return 'no_class'\n",
        "\n",
        "# Apply the function to each row in result_df\n",
        "result_df['koppen_class'] = result_df.apply(koppen_class, axis=1)\n",
        "\n",
        "# Display the updated DataFrame with Köppen class\n",
        "print(result_df[['NOM', 'ALT', 'koppen_class']].head())\n"
      ],
      "metadata": {
        "id": "QNdDSZmQx7-a",
        "outputId": "99a19f3d-e756-4f60-92f0-d10399b2afb2",
        "colab": {
          "base_uri": "https://localhost:8080/"
        }
      },
      "id": "QNdDSZmQx7-a",
      "execution_count": 9,
      "outputs": [
        {
          "output_type": "stream",
          "name": "stdout",
          "text": [
            "              NOM  ALT koppen_class\n",
            "0        AMBERIEU  250          Cwb\n",
            "1      ST QUENTIN   98          Cwb\n",
            "2  VICHY-CHARMEIL  249          Cwb\n",
            "3        ST AUBAN  458          Cwa\n",
            "4          EMBRUN  873          Cwb\n"
          ]
        }
      ]
    },
    {
      "cell_type": "code",
      "source": [
        "# Create the dictionary with lists of station names by koppen_class\n",
        "koppen_dict = result_df.groupby('koppen_class')['NOM'].apply(list).to_dict()\n",
        "\n",
        "# Display the dictionary\n",
        "print(koppen_dict)\n"
      ],
      "metadata": {
        "id": "5fvl7YdzyLe-",
        "outputId": "6e0cc98c-7198-4f76-bb8a-eea41135b37d",
        "colab": {
          "base_uri": "https://localhost:8080/"
        }
      },
      "id": "5fvl7YdzyLe-",
      "execution_count": 10,
      "outputs": [
        {
          "output_type": "stream",
          "name": "stdout",
          "text": [
            "{'Af': ['LE RAIZET AERO', 'ST-BARTHELEMY METEO', 'LAMENTIN-AERO', 'CAYENNE-MATOURY', 'SAINT GEORGES', 'MARIPASOULA', 'GILLOT-AEROPORT', 'TROMELIN', 'PAMANDZI', 'MAOPOOPO', 'HIHIFO', 'BORA-BORA-MOTU-AERO', 'FAAA', 'MANGAREVA', 'HIVA-OA', 'RAPA', 'TAKAROA', 'OUANAHAM', 'NOUMEA', 'LA TONTOUTA'], 'Cwa': ['ST AUBAN', 'CANNES', 'NICE', 'LANAS SYN', 'CARCASSONNE', 'ISTRES', 'MARIGNANE', 'SALON DE PROVENCE', 'AJACCIO', 'CAP PERTUSATO', 'CALVI', 'ILE ROUSSE', 'FIGARI', 'BASTIA', 'SOLENZARA', 'MONTELIMAR', 'NIMES-COURBESSAC', 'NIMES-GARONS', 'TOULOUSE-BLAGNAC', 'MONTPELLIER-AEROPORT', 'BEZIERS-VIAS', 'SETE', 'PERPIGNAN', 'LYON-BRON', 'LYON-ST EXUPERY', 'ALBI', 'MONTAUBAN', 'LE LUC', 'HYERES', 'ILE DU LEVANT', 'AVIGNON', 'CARPENTRAS', 'ORANGE'], 'Cwb': ['AMBERIEU', 'ST QUENTIN', 'VICHY-CHARMEIL', 'EMBRUN', 'CHARLEVILLE-MEZ', 'ST GIRONS', 'TROYES-BARBEREY', 'MILLAU', 'RODEZ-AVEYRON', 'CAEN-CARPIQUET', 'ST GATIEN DES B', 'AURILLAC', 'COGNAC', 'LA ROCHELLE-ILE DE RE', 'CHASSIRON', 'BOURGES', 'AVORD', 'BRIVE', 'DIJON-LONGVIC', 'LANNION_AERO', \"PLOUMANAC'H\", 'ST BRIEUC', 'BERGERAC', 'BESANCON', 'EVREUX-HUEST', 'CHARTRES', 'CHATEAUDUN', 'BREST-GUIPAVAS', 'LANVEOC', 'OUESSANT-STIFF', 'QUIMPER', 'LANDIVISIAU', 'MONT AIGOUAL', 'AUCH', 'BORDEAUX-MERIGNAC', 'CAZAUX', 'DINARD', 'RENNES-ST JACQUES', 'CHATEAUROUX  DEOLS', 'TOURS', 'GRENOBLE-ST GEOIRS', 'TAVAUX SA', 'BISCARROSSE', 'DAX', 'MONT-DE-MARSAN', 'ROMORANTIN', 'BLOIS', 'ST ETIENNE-BOUTHEON', 'LE PUY-LOUDES', 'NANTES-BOUGUENAIS', 'ST NAZAIRE-MONTOIR', 'ORLEANS', 'GOURDON', 'AGEN-LA GARENNE', 'BEAUCOUZE', 'GONNEVILLE', 'LANGRES', 'ST-DIZIER', 'LAVAL-ETRONNIER', 'NANCY-OCHEY', 'NANCY-ESSEY', 'BELLE ILE-LE TALUT', 'LORIENT-LANN BIHOUE', 'AEROPORT METZ-NANCY-LORRAINE', 'NEVERS-MARZY', 'DUNKERQUE', 'LILLE-LESQUIN', 'CREIL', 'BEAUVAIS-TILLE', 'ALENCON', 'BOULOGNE-SEM', 'LE-TOUQUET', 'CLERMONT-FD', 'BIARRITZ-PAYS-BASQUE', 'SOCOA', 'PAU-UZEIN', 'TARBES-LOURDES-PYRENEES', 'STRASBOURG-ENTZHEIM', 'COLMAR-MEYENHEIM', 'BALE-MULHOUSE', 'LUXEUIL', 'MACON', 'ST YAN', 'LE MANS', 'BOURG ST MAURICE', 'CHAMBERY-AIX', 'MEYTHET', 'PARIS-MONTSOURIS', 'ROUEN-BOOS', 'DIEPPE', 'OCTEVILLE', 'MELUN', 'TOUSSUS LE NOBLE', 'TRAPPES', 'NIORT', 'ABBEVILLE', 'MEAULTE', 'LA ROCHE SUR YON', 'POITIERS-BIARD', 'LIMOGES-BELLEGARDE', 'ORLY', 'PONTOISE - AERO', 'LE BOURGET', 'ROISSY', 'ST-PIERRE', 'NOUVELLE AMSTERDAM'], 'ET': ['KERGUELEN'], 'no_class': ['VILLAR ST PANCRACE', 'LEUCATE', 'BRIVE-SOUILLAC', 'CAP CORSE', 'ALISTRO', 'GUERET-ST LAURENT', 'PLOUDALMEZEAU', 'MENDE', 'MARCE', 'PTE DE LA HAGUE', 'REIMS-PRUNAY', 'VATRY-AERO', 'ILE DE GROIX', 'CAP BEAR', 'VILLACOUBLAY', 'L ILE D YEU', 'AUXERRE-PERRIGNY', 'DORANS', 'LA DESIRADE METEO', 'TRINITE-CARAVEL', 'SAINT LAURENT', 'GLORIEUSES', 'JUAN DE NOVA', 'EUROPA', 'CROZET', 'HAO AERO', 'TAIARAPU-EST', 'KOUMAC']}\n"
          ]
        }
      ]
    },
    {
      "cell_type": "code",
      "source": [
        "import re\n",
        "from collections import defaultdict\n",
        "\n",
        "# Helper function to extract the town name\n",
        "def extract_town_name(station_name):\n",
        "    # Normalize \"Saint\" variations\n",
        "    match = re.match(r\"(Saint[\\-\\s\\.]*|St[\\-\\.\\s]*)?([A-Za-z\\-]+)\", station_name, re.IGNORECASE)\n",
        "    if match:\n",
        "        # Combine 'Saint' with the rest of the name if present\n",
        "        return match.group(0).strip()\n",
        "    return station_name.split()[0]\n",
        "\n",
        "# Step 1: Group station names by town\n",
        "town_groups = defaultdict(list)\n",
        "for idx, row in result_df.iterrows():\n",
        "    town_name = extract_town_name(row['NOM'])\n",
        "    town_groups[town_name].append((row['NOM'], row['koppen_class']))\n",
        "\n",
        "# Step 2: Check class consistency within each town group and build the new dictionary\n",
        "consistent_koppen_dict = defaultdict(list)\n",
        "\n",
        "for town, stations in town_groups.items():\n",
        "    # Extract classes, ignoring 'no_class'\n",
        "    classes = set([class_ for _, class_ in stations if class_ != 'no_class'])\n",
        "\n",
        "    if len(classes) == 1:\n",
        "        # All classes are consistent, add town to the unique class\n",
        "        consistent_class = classes.pop() if classes else 'no_class'\n",
        "        consistent_koppen_dict[consistent_class].append(town)\n",
        "    else:\n",
        "        # Inconsistent classes, add town to 'no_class'\n",
        "        consistent_koppen_dict['no_class'].append(town)\n",
        "\n",
        "# Display the resulting dictionary\n",
        "print(dict(consistent_koppen_dict))\n"
      ],
      "metadata": {
        "id": "e4rRUcaiySqs",
        "outputId": "9366ca0d-12ee-4dac-8e5a-e13935b2d598",
        "colab": {
          "base_uri": "https://localhost:8080/"
        }
      },
      "id": "e4rRUcaiySqs",
      "execution_count": 11,
      "outputs": [
        {
          "output_type": "stream",
          "name": "stdout",
          "text": [
            "{'Cwb': ['AMBERIEU', 'ST QUENTIN', 'VICHY-CHARMEIL', 'EMBRUN', 'CHARLEVILLE-MEZ', 'ST GIRONS', 'TROYES-BARBEREY', 'MILLAU', 'RODEZ-AVEYRON', 'CAEN-CARPIQUET', 'ST GATIEN', 'AURILLAC', 'COGNAC', 'CHASSIRON', 'BOURGES', 'AVORD', 'BRIVE', 'DIJON-LONGVIC', 'LANNION', 'PLOUMANAC', 'ST BRIEUC', 'BERGERAC', 'BESANCON', 'EVREUX-HUEST', 'CHARTRES', 'CHATEAUDUN', 'BREST-GUIPAVAS', 'LANVEOC', 'OUESSANT-STIFF', 'QUIMPER', 'LANDIVISIAU', 'MONT', 'AUCH', 'BORDEAUX-MERIGNAC', 'CAZAUX', 'DINARD', 'RENNES-ST', 'CHATEAUROUX', 'TOURS', 'GRENOBLE-ST', 'TAVAUX', 'BISCARROSSE', 'DAX', 'MONT-DE-MARSAN', 'ROMORANTIN', 'BLOIS', 'ST ETIENNE-BOUTHEON', 'NANTES-BOUGUENAIS', 'ST NAZAIRE-MONTOIR', 'ORLEANS', 'GOURDON', 'AGEN-LA', 'BEAUCOUZE', 'GONNEVILLE', 'LANGRES', 'ST-DIZIER', 'LAVAL-ETRONNIER', 'NANCY-OCHEY', 'NANCY-ESSEY', 'BELLE', 'LORIENT-LANN', 'AEROPORT', 'NEVERS-MARZY', 'DUNKERQUE', 'LILLE-LESQUIN', 'CREIL', 'BEAUVAIS-TILLE', 'ALENCON', 'BOULOGNE-SEM', 'LE-TOUQUET', 'CLERMONT-FD', 'BIARRITZ-PAYS-BASQUE', 'SOCOA', 'PAU-UZEIN', 'TARBES-LOURDES-PYRENEES', 'STRASBOURG-ENTZHEIM', 'COLMAR-MEYENHEIM', 'BALE-MULHOUSE', 'LUXEUIL', 'MACON', 'ST YAN', 'BOURG', 'CHAMBERY-AIX', 'MEYTHET', 'PARIS-MONTSOURIS', 'ROUEN-BOOS', 'DIEPPE', 'OCTEVILLE', 'MELUN', 'TOUSSUS', 'TRAPPES', 'NIORT', 'ABBEVILLE', 'MEAULTE', 'POITIERS-BIARD', 'LIMOGES-BELLEGARDE', 'ORLY', 'PONTOISE', 'ROISSY', 'ST-PIERRE', 'NOUVELLE'], 'Cwa': ['ST AUBAN', 'CANNES', 'NICE', 'LANAS', 'CARCASSONNE', 'ISTRES', 'MARIGNANE', 'SALON', 'AJACCIO', 'CAP', 'CALVI', 'ILE', 'FIGARI', 'BASTIA', 'SOLENZARA', 'MONTELIMAR', 'NIMES-COURBESSAC', 'NIMES-GARONS', 'TOULOUSE-BLAGNAC', 'MONTPELLIER-AEROPORT', 'BEZIERS-VIAS', 'SETE', 'PERPIGNAN', 'LYON-BRON', 'LYON-ST', 'ALBI', 'MONTAUBAN', 'HYERES', 'AVIGNON', 'CARPENTRAS', 'ORANGE'], 'no_class': ['VILLAR', 'LEUCATE', 'LA', 'BRIVE-SOUILLAC', 'ALISTRO', 'GUERET-ST', 'PLOUDALMEZEAU', 'LE', 'MENDE', 'MARCE', 'PTE', 'REIMS-PRUNAY', 'VATRY-AERO', 'VILLACOUBLAY', 'L', 'AUXERRE-PERRIGNY', 'DORANS', 'TRINITE-CARAVEL', 'SAINT LAURENT', 'GLORIEUSES', 'JUAN', 'EUROPA', 'CROZET', 'HAO', 'TAIARAPU-EST', 'KOUMAC'], 'Af': ['ST-BARTHELEMY', 'LAMENTIN-AERO', 'CAYENNE-MATOURY', 'SAINT GEORGES', 'MARIPASOULA', 'GILLOT-AEROPORT', 'TROMELIN', 'PAMANDZI', 'MAOPOOPO', 'HIHIFO', 'BORA-BORA-MOTU-AERO', 'FAAA', 'MANGAREVA', 'HIVA-OA', 'RAPA', 'TAKAROA', 'OUANAHAM', 'NOUMEA'], 'ET': ['KERGUELEN']}\n"
          ]
        }
      ]
    },
    {
      "cell_type": "code",
      "source": [
        "def display_koppen_dict(nice_dict, max_words_per_line=5):\n",
        "    for koppen_class, towns in nice_dict.items():\n",
        "        print(f\"{koppen_class}:\")\n",
        "\n",
        "        # Split the list of towns into lines based on max_words_per_line\n",
        "        line = []\n",
        "        for i, town in enumerate(towns, 1):\n",
        "            line.append(town)\n",
        "            # Print and clear line every max_words_per_line words, or at the end\n",
        "            if i % max_words_per_line == 0 or i == len(towns):\n",
        "                print(\"    \" + \", \".join(line))\n",
        "                line = []  # Reset line for next batch\n",
        "        print()  # Blank line between classes\n",
        "\n",
        "# Display the dictionary with formatted output\n",
        "display_koppen_dict(consistent_koppen_dict)\n"
      ],
      "metadata": {
        "id": "qWB1Sg7GzAPS",
        "outputId": "1cc431dc-86fe-423e-fbeb-f5b233d4b189",
        "colab": {
          "base_uri": "https://localhost:8080/"
        }
      },
      "id": "qWB1Sg7GzAPS",
      "execution_count": 12,
      "outputs": [
        {
          "output_type": "stream",
          "name": "stdout",
          "text": [
            "Cwb:\n",
            "    AMBERIEU, ST QUENTIN, VICHY-CHARMEIL, EMBRUN, CHARLEVILLE-MEZ\n",
            "    ST GIRONS, TROYES-BARBEREY, MILLAU, RODEZ-AVEYRON, CAEN-CARPIQUET\n",
            "    ST GATIEN, AURILLAC, COGNAC, CHASSIRON, BOURGES\n",
            "    AVORD, BRIVE, DIJON-LONGVIC, LANNION, PLOUMANAC\n",
            "    ST BRIEUC, BERGERAC, BESANCON, EVREUX-HUEST, CHARTRES\n",
            "    CHATEAUDUN, BREST-GUIPAVAS, LANVEOC, OUESSANT-STIFF, QUIMPER\n",
            "    LANDIVISIAU, MONT, AUCH, BORDEAUX-MERIGNAC, CAZAUX\n",
            "    DINARD, RENNES-ST, CHATEAUROUX, TOURS, GRENOBLE-ST\n",
            "    TAVAUX, BISCARROSSE, DAX, MONT-DE-MARSAN, ROMORANTIN\n",
            "    BLOIS, ST ETIENNE-BOUTHEON, NANTES-BOUGUENAIS, ST NAZAIRE-MONTOIR, ORLEANS\n",
            "    GOURDON, AGEN-LA, BEAUCOUZE, GONNEVILLE, LANGRES\n",
            "    ST-DIZIER, LAVAL-ETRONNIER, NANCY-OCHEY, NANCY-ESSEY, BELLE\n",
            "    LORIENT-LANN, AEROPORT, NEVERS-MARZY, DUNKERQUE, LILLE-LESQUIN\n",
            "    CREIL, BEAUVAIS-TILLE, ALENCON, BOULOGNE-SEM, LE-TOUQUET\n",
            "    CLERMONT-FD, BIARRITZ-PAYS-BASQUE, SOCOA, PAU-UZEIN, TARBES-LOURDES-PYRENEES\n",
            "    STRASBOURG-ENTZHEIM, COLMAR-MEYENHEIM, BALE-MULHOUSE, LUXEUIL, MACON\n",
            "    ST YAN, BOURG, CHAMBERY-AIX, MEYTHET, PARIS-MONTSOURIS\n",
            "    ROUEN-BOOS, DIEPPE, OCTEVILLE, MELUN, TOUSSUS\n",
            "    TRAPPES, NIORT, ABBEVILLE, MEAULTE, POITIERS-BIARD\n",
            "    LIMOGES-BELLEGARDE, ORLY, PONTOISE, ROISSY, ST-PIERRE\n",
            "    NOUVELLE\n",
            "\n",
            "Cwa:\n",
            "    ST AUBAN, CANNES, NICE, LANAS, CARCASSONNE\n",
            "    ISTRES, MARIGNANE, SALON, AJACCIO, CAP\n",
            "    CALVI, ILE, FIGARI, BASTIA, SOLENZARA\n",
            "    MONTELIMAR, NIMES-COURBESSAC, NIMES-GARONS, TOULOUSE-BLAGNAC, MONTPELLIER-AEROPORT\n",
            "    BEZIERS-VIAS, SETE, PERPIGNAN, LYON-BRON, LYON-ST\n",
            "    ALBI, MONTAUBAN, HYERES, AVIGNON, CARPENTRAS\n",
            "    ORANGE\n",
            "\n",
            "no_class:\n",
            "    VILLAR, LEUCATE, LA, BRIVE-SOUILLAC, ALISTRO\n",
            "    GUERET-ST, PLOUDALMEZEAU, LE, MENDE, MARCE\n",
            "    PTE, REIMS-PRUNAY, VATRY-AERO, VILLACOUBLAY, L\n",
            "    AUXERRE-PERRIGNY, DORANS, TRINITE-CARAVEL, SAINT LAURENT, GLORIEUSES\n",
            "    JUAN, EUROPA, CROZET, HAO, TAIARAPU-EST\n",
            "    KOUMAC\n",
            "\n",
            "Af:\n",
            "    ST-BARTHELEMY, LAMENTIN-AERO, CAYENNE-MATOURY, SAINT GEORGES, MARIPASOULA\n",
            "    GILLOT-AEROPORT, TROMELIN, PAMANDZI, MAOPOOPO, HIHIFO\n",
            "    BORA-BORA-MOTU-AERO, FAAA, MANGAREVA, HIVA-OA, RAPA\n",
            "    TAKAROA, OUANAHAM, NOUMEA\n",
            "\n",
            "ET:\n",
            "    KERGUELEN\n",
            "\n"
          ]
        }
      ]
    },
    {
      "cell_type": "code",
      "source": [],
      "metadata": {
        "id": "N8akLAa9zAzf"
      },
      "id": "N8akLAa9zAzf",
      "execution_count": null,
      "outputs": []
    }
  ],
  "metadata": {
    "kernelspec": {
      "display_name": "Python 3",
      "name": "python3"
    },
    "language_info": {
      "codemirror_mode": {
        "name": "ipython",
        "version": 3
      },
      "file_extension": ".py",
      "mimetype": "text/x-python",
      "name": "python",
      "nbconvert_exporter": "python",
      "pygments_lexer": "ipython3",
      "version": "3.9.15"
    },
    "colab": {
      "provenance": [],
      "machine_shape": "hm"
    }
  },
  "nbformat": 4,
  "nbformat_minor": 5
}